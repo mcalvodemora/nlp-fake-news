{
 "cells": [
  {
   "cell_type": "markdown",
   "id": "8f97c3d1",
   "metadata": {},
   "source": [
    "<div style=\"display: flex; align-items: center; justify-content: space-between; background-color: #1e355f; padding: 30px;\">\n",
    "    <div>\n",
    "        <h1 style=\"color: white; text-align: center; font-weight: bold;\">Datos No Estructurados: NLP</h1>\n",
    "        <h2 style=\"color: white; text-align: center;\">Fake News Detection</h2>\n",
    "    </div>\n",
    "\n",
    "</div>\n"
   ]
  },
  {
   "cell_type": "markdown",
   "id": "1bbbfbc5",
   "metadata": {},
   "source": [
    "<div style=\"padding: 5px;\">\n",
    "    <h3 style=\"color: #1e355f; font-weight: bold;\">Realizado por:</h3>\n",
    "</div>\n",
    "\n",
    "- Álvaro Ezquerro Pérez\n",
    "- María Calvo de Mora Román\n",
    "- Celia Quiles Alemañ\n"
   ]
  },
  {
   "cell_type": "markdown",
   "id": "e48dcd00",
   "metadata": {},
   "source": [
    "<div style=\"display: flex; align-items: center; justify-content: space-between; background-color: #1e355f; padding: 10px;\">\n",
    "    <div>\n",
    "        <h1 style=\"color: white; text-align: center; font-weight: bold;\">NLP con Modelos de Machine Learning</h1>\n",
    "    </div>\n",
    "</div>\n"
   ]
  },
  {
   "cell_type": "markdown",
   "id": "fce58b57",
   "metadata": {},
   "source": [
    "<div style=\"padding: 5px;\">\n",
    "    <h2 style=\"color: #1e355f; font-weight: bold;\">Introducción</h2>\n",
    "</div>\n"
   ]
  },
  {
   "cell_type": "markdown",
   "id": "f6eadb18",
   "metadata": {},
   "source": [
    "En este notebook, exploraremos la posibilidad de realizar Procesamiento de Lenguaje Natural (NLP) utilizando modelos de machine learning. \n",
    "\n",
    "Empezamos con una introducción a los conceptos básicos del NLP, incluyendo la tokenización, la eliminación de stopwords, la extracción de características y la construcción de modelos de machine learning para nuestra tarea específica, la identificación de fake news.\n",
    "\n",
    "Utilizaremos bibliotecas populares como NLTK, scikit-learn y pandas para llevar a cabo diferentes etapas del proceso de NLP. Exploraremos diversos algoritmos de machine learning, como la Regesión Logística, Support Vector Machines (SVM) o Random Forests, entre otros, para abordar nuestro problema de clasificación de texto.\n",
    "\n",
    "A lo largo de este notebook, no solo aprenderemos cómo implementar estos modelos, sino también cómo evaluar su rendimiento y ajustar sus parámetros para obtener resultados óptimos.\n",
    "\n",
    "En futuros notebooks, nos sumergiremos aún más en el campo del NLP, explorando técnicas avanzadas como el uso de redes neuronales profundas para abordar nuestra tarea de NLP."
   ]
  },
  {
   "cell_type": "markdown",
   "id": "41713f46",
   "metadata": {},
   "source": [
    "<div style=\"padding: 5px;\">\n",
    "    <h2 style=\"color: #1e355f; font-weight: bold;\">Preprocesado de datos para NLP:</h2>\n",
    "</div>"
   ]
  },
  {
   "cell_type": "markdown",
   "id": "c4f5df1d",
   "metadata": {},
   "source": [
    "En el proceso de identificación de noticias falsas, es fundamental **preprocesar el texto** de manera adecuada para mejorar la calidad de los datos y aumentar la precisión del modelo. Para lograr esto, vamos a implementar una **función de preprocesamiento que incluye el algoritmo de stemming utilizando el Porter Stemmer.**\n",
    "\n",
    "El objetivo principal del stemming es reducir las palabras a su forma base, lo que nos permite agrupar palabras similares y simplificar el vocabulario. Al **eliminar sufijos y prefijos de las palabras**, el stemming ayuda a normalizar el texto y a capturar mejor la esencia semántica de las palabras, lo que es esencial para identificar patrones y características relevantes en el análisis de texto. [1]\n",
    "\n",
    "La función de preprocesamiento **comenzará eliminando cualquier caracter que no sea una letra del alfabeto**, convirtiendo todo el **texto a minúsculas** y **dividiéndolo en palabras individuales**. Luego, aplicaremos el **algoritmo de stemming** para reducir cada palabra a su forma base, asegurándonos de que **no se incluyan palabras vacías (stopwords)** en el proceso.\n",
    "\n",
    "Este enfoque de preprocesamiento nos permitirá mejorar la calidad de los datos al reducir la variabilidad léxica y normalizar el texto, lo que a su vez aumentará la eficacia de nuestro modelo en la identificación de noticias falsas. Al proporcionar una representación más coherente y estructurada del texto, el uso de stemming contribuirá significativamente a la precisión y fiabilidad de nuestro sistema de detección de noticias falsas.\n",
    "\n",
    "Es decir, la función hará:\n",
    "1) Quita caracteres que no contenga el alfabeto\n",
    "2) Pasa a minúsculas todo el texto\n",
    "3) Divide el texto en palabras individuales\n",
    "4) Stemming  para quitar prefijos/ sufijos\n",
    "5) Elimina stopwords\n",
    "\n",
    "\n",
    "\n",
    "### *Si se desea profundizar en este preprocesado, acuda al notebook `2.Preprocess_for_NLP.ipynb`.*\n"
   ]
  },
  {
   "cell_type": "code",
   "execution_count": 1,
   "id": "300c2700",
   "metadata": {},
   "outputs": [],
   "source": [
    "import pandas as pd\n",
    "import numpy as np\n",
    "import re\n",
    "from sklearn.feature_extraction.text import TfidfVectorizer\n",
    "from sklearn.model_selection import train_test_split\n",
    "\n",
    "from sklearn.linear_model import LogisticRegression\n",
    "from sklearn.ensemble import RandomForestClassifier\n",
    "from sklearn import svm\n",
    "from sklearn.metrics import classification_report, confusion_matrix, accuracy_score\n",
    "\n",
    "import matplotlib.pyplot as plt\n",
    "from matplotlib_inline.backend_inline import set_matplotlib_formats\n",
    "import seaborn as sns\n",
    "\n",
    "\n",
    "import joblib"
   ]
  },
  {
   "cell_type": "raw",
   "id": "08a8b222",
   "metadata": {},
   "source": [
    "ps = PorterStemmer()\n",
    "def stemming(content):\n",
    "    stemmed_content = re.sub('[^a-zA-Z]',' ',content)\n",
    "    stemmed_content = stemmed_content.lower()\n",
    "    stemmed_content = stemmed_content.split()\n",
    "    stemmed_content = [ps.stem(word) for word in stemmed_content if not word in stopwords.words('english')]\n",
    "    stemmed_content = ' '.join(stemmed_content)\n",
    "    return stemmed_content\n",
    "    \n",
    "df['contenido'] = df['contenido'].apply(stemming)\n",
    "df['title'] = df['title'].apply(stemming)\n",
    "df['text'] = df['text'].apply(stemming)\n",
    "#df.to_csv('data/df_preprocessed.csv', index = False)"
   ]
  },
  {
   "cell_type": "code",
   "execution_count": 2,
   "id": "0d18f624",
   "metadata": {},
   "outputs": [
    {
     "data": {
      "text/html": [
       "<div>\n",
       "<style scoped>\n",
       "    .dataframe tbody tr th:only-of-type {\n",
       "        vertical-align: middle;\n",
       "    }\n",
       "\n",
       "    .dataframe tbody tr th {\n",
       "        vertical-align: top;\n",
       "    }\n",
       "\n",
       "    .dataframe thead th {\n",
       "        text-align: right;\n",
       "    }\n",
       "</style>\n",
       "<table border=\"1\" class=\"dataframe\">\n",
       "  <thead>\n",
       "    <tr style=\"text-align: right;\">\n",
       "      <th></th>\n",
       "      <th>contenido</th>\n",
       "      <th>fake</th>\n",
       "    </tr>\n",
       "  </thead>\n",
       "  <tbody>\n",
       "    <tr>\n",
       "      <th>0</th>\n",
       "      <td>fake news updat newsweek report caught lie tru...</td>\n",
       "      <td>1</td>\n",
       "    </tr>\n",
       "    <tr>\n",
       "      <th>1</th>\n",
       "      <td>britain may parti leader agre tackl sexual har...</td>\n",
       "      <td>0</td>\n",
       "    </tr>\n",
       "    <tr>\n",
       "      <th>2</th>\n",
       "      <td>secret dump toxic wast privat properti epa gov...</td>\n",
       "      <td>1</td>\n",
       "    </tr>\n",
       "    <tr>\n",
       "      <th>3</th>\n",
       "      <td>yemen houthi say shot u surveil drone state ne...</td>\n",
       "      <td>0</td>\n",
       "    </tr>\n",
       "    <tr>\n",
       "      <th>4</th>\n",
       "      <td>japan aso retract hitler comment critic tokyo ...</td>\n",
       "      <td>0</td>\n",
       "    </tr>\n",
       "  </tbody>\n",
       "</table>\n",
       "</div>"
      ],
      "text/plain": [
       "                                           contenido  fake\n",
       "0  fake news updat newsweek report caught lie tru...     1\n",
       "1  britain may parti leader agre tackl sexual har...     0\n",
       "2  secret dump toxic wast privat properti epa gov...     1\n",
       "3  yemen houthi say shot u surveil drone state ne...     0\n",
       "4  japan aso retract hitler comment critic tokyo ...     0"
      ]
     },
     "execution_count": 2,
     "metadata": {},
     "output_type": "execute_result"
    }
   ],
   "source": [
    "df = pd.read_csv('../data/df_preprocessed.csv')\n",
    "df.head()"
   ]
  },
  {
   "cell_type": "markdown",
   "id": "4e8bb24d",
   "metadata": {},
   "source": [
    "*Este preprocesado tarda unos minutos. En consecuencia, para no tener que ejecutar este paso cada vez, los textos tras ser preprocesados han sido guardados y ahora solo los cargamos en el notebook de vuelta.*"
   ]
  },
  {
   "cell_type": "markdown",
   "id": "89ed67b1",
   "metadata": {},
   "source": [
    "##### Split entre X e y + Vectorización del texto:\n",
    "\n",
    "Una vez el texto tiene esos arreglos realizados, pasamos a separar entre target del problema (columna `fake`, será la `y` del problema), y cuál será el input (columna `contenido`, será la `X`del problema).\n",
    "\n",
    "\n",
    "Además, la `X` al ser una columna de texto, tendremos que transformarla en numérica para su futuro procesamiento.\n",
    "\n",
    "Para ello, utilizamos la función `TfidfVectorizer()`. \n",
    "\n",
    "El TfidfVectorizer() es una técnica comúnmente utilizada en el procesamiento de lenguaje natural (NLP) para convertir texto en representaciones numéricas que son adecuadas para su uso en modelos de aprendizaje automático. \"Tfidf\" significa \"Term Frequency-Inverse Document Frequency\", que son los componentes clave de este método. [2]\n",
    "\n",
    "Al utilizar TfidfVectorizer(), transformamos el texto de la columna de entrada (en este caso, la columna 'contenido' que contiene el texto de las noticias) en una representación numérica que captura la importancia relativa de cada palabra en cada documento. Esto es esencial para alimentar los datos de texto a un modelo de aprendizaje automático, ya que los modelos generalmente requieren entradas numéricas. Además, el uso de TF-IDF ayuda a resaltar las palabras más relevantes y distintivas en el conjunto de datos, lo que puede mejorar el rendimiento del modelo."
   ]
  },
  {
   "cell_type": "code",
   "execution_count": 3,
   "id": "d30d8df8",
   "metadata": {},
   "outputs": [],
   "source": [
    "X = df['contenido'].values\n",
    "y = df['fake'].values"
   ]
  },
  {
   "cell_type": "code",
   "execution_count": 4,
   "id": "1f227ad4",
   "metadata": {},
   "outputs": [],
   "source": [
    "vector = TfidfVectorizer()\n",
    "vector.fit(X)\n",
    "X = vector.transform(X)\n",
    "\n",
    "#joblib.dump(vector, '../models/vectorizer.pkl')"
   ]
  },
  {
   "cell_type": "code",
   "execution_count": 5,
   "id": "14097484",
   "metadata": {},
   "outputs": [
    {
     "name": "stdout",
     "output_type": "stream",
     "text": [
      "  (0, 88056)\t0.03579370594577725\n",
      "  (0, 87936)\t0.020485408141658\n",
      "  (0, 86551)\t0.02594193454061605\n",
      "  (0, 83998)\t0.02941898422052584\n",
      "  (0, 82109)\t0.05571567166113982\n",
      "  (0, 80447)\t0.024472568683583322\n",
      "  (0, 80280)\t0.0630846182271232\n",
      "  (0, 80220)\t0.11357745798628796\n",
      "  (0, 79543)\t0.151059890252117\n",
      "  (0, 79263)\t0.05740222890919985\n",
      "  (0, 78932)\t0.05010149088805788\n",
      "  (0, 77960)\t0.04402183596408137\n",
      "  (0, 77843)\t0.03932706101291844\n",
      "  (0, 77835)\t0.09413403705072855\n",
      "  (0, 77773)\t0.03197940626213781\n",
      "  (0, 77663)\t0.040656629140327444\n",
      "  (0, 77546)\t0.056647374718338354\n",
      "  (0, 75148)\t0.04473065243589399\n",
      "  (0, 75065)\t0.09838735404610206\n",
      "  (0, 74218)\t0.03622279303171761\n",
      "  (0, 74043)\t0.030878812701788116\n",
      "  (0, 72978)\t0.05674570466243637\n",
      "  (0, 72771)\t0.03633442847304376\n",
      "  (0, 71321)\t0.027213127820568547\n",
      "  (0, 71288)\t0.05400282526750075\n",
      "  :\t:\n",
      "  (44896, 11244)\t0.06645845820347505\n",
      "  (44896, 11243)\t0.03598038763975178\n",
      "  (44896, 6206)\t0.052887469268062995\n",
      "  (44896, 3961)\t0.04406731534350405\n",
      "  (44896, 3935)\t0.07434333264116928\n",
      "  (44896, 3542)\t0.08538125919331305\n",
      "  (44896, 3179)\t0.0566916268833448\n",
      "  (44896, 3109)\t0.07089185124083813\n",
      "  (44896, 2501)\t0.05345582215716128\n",
      "  (44896, 2327)\t0.054933583092673176\n",
      "  (44896, 2301)\t0.023193016120677198\n",
      "  (44896, 2217)\t0.04596776734701884\n",
      "  (44896, 1431)\t0.0434084973263851\n",
      "  (44896, 922)\t0.09046841409173426\n",
      "  (44896, 821)\t0.03344819772668921\n",
      "  (44897, 83348)\t0.13693223543169736\n",
      "  (44897, 79543)\t0.09828148107527451\n",
      "  (44897, 72285)\t0.36969784058690236\n",
      "  (44897, 63679)\t0.22309088566677285\n",
      "  (44897, 61939)\t0.4243491438006972\n",
      "  (44897, 48555)\t0.3557503773116837\n",
      "  (44897, 40191)\t0.2912371570244309\n",
      "  (44897, 31642)\t0.3676001151958027\n",
      "  (44897, 31278)\t0.34245182358198395\n",
      "  (44897, 29477)\t0.37588771218951533\n"
     ]
    }
   ],
   "source": [
    "print(X)"
   ]
  },
  {
   "cell_type": "markdown",
   "id": "aa32af1d",
   "metadata": {},
   "source": [
    "Como se aprecia, gracias a esta última transformación ya tenemos el texto vectorizado y listo para el análisis."
   ]
  },
  {
   "cell_type": "markdown",
   "id": "a9637e2c",
   "metadata": {},
   "source": [
    "##### Split entre train y test:\n",
    "\n",
    "Hemos decidido que vamos a entrenar con el 80% de los registros, y usaremos como conjunto de prueba el 20% restante.\n",
    "Además, realizamos esta división de manera estratificada, para que train y test tengan la misma proporción de fake news."
   ]
  },
  {
   "cell_type": "code",
   "execution_count": 6,
   "id": "950a226b",
   "metadata": {},
   "outputs": [],
   "source": [
    "X_train, X_test, Y_train, Y_test = train_test_split(X, y, \n",
    "                                                    test_size = 0.2, \n",
    "                                                    stratify=y, \n",
    "                                                    random_state=999)"
   ]
  },
  {
   "cell_type": "markdown",
   "id": "3d6081a7",
   "metadata": {},
   "source": [
    "<div style=\"padding: 25px;\">\n",
    "    <h2 style=\"color: #1e355f; font-weight: bold;\">--- MODELIZACIÓN CON MACHINE LEARNING ---</h2>\n",
    "</div>"
   ]
  },
  {
   "cell_type": "markdown",
   "id": "08727c78",
   "metadata": {},
   "source": [
    "<div style=\"padding: 5px;\">\n",
    "    <h2 style=\"color: #1e355f; font-weight: bold;\">Regresión Logística</h2>\n",
    "</div>"
   ]
  },
  {
   "cell_type": "markdown",
   "id": "01cfac7e",
   "metadata": {},
   "source": [
    "En esta sección, exploraremos la Regresión Logística como uno de los modelos fundamentales de Machine Learning para abordar nuestra tarea de identificación de fake news. La Regresión Logística es un algoritmo de clasificación que se utiliza ampliamente en diversos campos, incluyendo el análisis de datos y la minería de texto.\n",
    "\n",
    "#### ¿Qué es la Regresión Logística?\n",
    "\n",
    "A pesar de su nombre, la Regresión Logística es un algoritmo de clasificación, no de regresión. Utiliza la función logística (también conocida como función sigmoide) para modelar la probabilidad de que una observación pertenezca a una clase en particular. La salida de la regresión logística es una probabilidad en el rango [0, 1], que luego se puede convertir en una predicción de clase binaria utilizando un umbral específico, en nuestro caso este umbral será 0,5. [3]\n",
    "\n"
   ]
  },
  {
   "cell_type": "code",
   "execution_count": 7,
   "id": "07db0394",
   "metadata": {},
   "outputs": [
    {
     "data": {
      "text/html": [
       "<style>#sk-container-id-1 {color: black;background-color: white;}#sk-container-id-1 pre{padding: 0;}#sk-container-id-1 div.sk-toggleable {background-color: white;}#sk-container-id-1 label.sk-toggleable__label {cursor: pointer;display: block;width: 100%;margin-bottom: 0;padding: 0.3em;box-sizing: border-box;text-align: center;}#sk-container-id-1 label.sk-toggleable__label-arrow:before {content: \"▸\";float: left;margin-right: 0.25em;color: #696969;}#sk-container-id-1 label.sk-toggleable__label-arrow:hover:before {color: black;}#sk-container-id-1 div.sk-estimator:hover label.sk-toggleable__label-arrow:before {color: black;}#sk-container-id-1 div.sk-toggleable__content {max-height: 0;max-width: 0;overflow: hidden;text-align: left;background-color: #f0f8ff;}#sk-container-id-1 div.sk-toggleable__content pre {margin: 0.2em;color: black;border-radius: 0.25em;background-color: #f0f8ff;}#sk-container-id-1 input.sk-toggleable__control:checked~div.sk-toggleable__content {max-height: 200px;max-width: 100%;overflow: auto;}#sk-container-id-1 input.sk-toggleable__control:checked~label.sk-toggleable__label-arrow:before {content: \"▾\";}#sk-container-id-1 div.sk-estimator input.sk-toggleable__control:checked~label.sk-toggleable__label {background-color: #d4ebff;}#sk-container-id-1 div.sk-label input.sk-toggleable__control:checked~label.sk-toggleable__label {background-color: #d4ebff;}#sk-container-id-1 input.sk-hidden--visually {border: 0;clip: rect(1px 1px 1px 1px);clip: rect(1px, 1px, 1px, 1px);height: 1px;margin: -1px;overflow: hidden;padding: 0;position: absolute;width: 1px;}#sk-container-id-1 div.sk-estimator {font-family: monospace;background-color: #f0f8ff;border: 1px dotted black;border-radius: 0.25em;box-sizing: border-box;margin-bottom: 0.5em;}#sk-container-id-1 div.sk-estimator:hover {background-color: #d4ebff;}#sk-container-id-1 div.sk-parallel-item::after {content: \"\";width: 100%;border-bottom: 1px solid gray;flex-grow: 1;}#sk-container-id-1 div.sk-label:hover label.sk-toggleable__label {background-color: #d4ebff;}#sk-container-id-1 div.sk-serial::before {content: \"\";position: absolute;border-left: 1px solid gray;box-sizing: border-box;top: 0;bottom: 0;left: 50%;z-index: 0;}#sk-container-id-1 div.sk-serial {display: flex;flex-direction: column;align-items: center;background-color: white;padding-right: 0.2em;padding-left: 0.2em;position: relative;}#sk-container-id-1 div.sk-item {position: relative;z-index: 1;}#sk-container-id-1 div.sk-parallel {display: flex;align-items: stretch;justify-content: center;background-color: white;position: relative;}#sk-container-id-1 div.sk-item::before, #sk-container-id-1 div.sk-parallel-item::before {content: \"\";position: absolute;border-left: 1px solid gray;box-sizing: border-box;top: 0;bottom: 0;left: 50%;z-index: -1;}#sk-container-id-1 div.sk-parallel-item {display: flex;flex-direction: column;z-index: 1;position: relative;background-color: white;}#sk-container-id-1 div.sk-parallel-item:first-child::after {align-self: flex-end;width: 50%;}#sk-container-id-1 div.sk-parallel-item:last-child::after {align-self: flex-start;width: 50%;}#sk-container-id-1 div.sk-parallel-item:only-child::after {width: 0;}#sk-container-id-1 div.sk-dashed-wrapped {border: 1px dashed gray;margin: 0 0.4em 0.5em 0.4em;box-sizing: border-box;padding-bottom: 0.4em;background-color: white;}#sk-container-id-1 div.sk-label label {font-family: monospace;font-weight: bold;display: inline-block;line-height: 1.2em;}#sk-container-id-1 div.sk-label-container {text-align: center;}#sk-container-id-1 div.sk-container {/* jupyter's `normalize.less` sets `[hidden] { display: none; }` but bootstrap.min.css set `[hidden] { display: none !important; }` so we also need the `!important` here to be able to override the default hidden behavior on the sphinx rendered scikit-learn.org. See: https://github.com/scikit-learn/scikit-learn/issues/21755 */display: inline-block !important;position: relative;}#sk-container-id-1 div.sk-text-repr-fallback {display: none;}</style><div id=\"sk-container-id-1\" class=\"sk-top-container\"><div class=\"sk-text-repr-fallback\"><pre>LogisticRegression()</pre><b>In a Jupyter environment, please rerun this cell to show the HTML representation or trust the notebook. <br />On GitHub, the HTML representation is unable to render, please try loading this page with nbviewer.org.</b></div><div class=\"sk-container\" hidden><div class=\"sk-item\"><div class=\"sk-estimator sk-toggleable\"><input class=\"sk-toggleable__control sk-hidden--visually\" id=\"sk-estimator-id-1\" type=\"checkbox\" checked><label for=\"sk-estimator-id-1\" class=\"sk-toggleable__label sk-toggleable__label-arrow\">LogisticRegression</label><div class=\"sk-toggleable__content\"><pre>LogisticRegression()</pre></div></div></div></div></div>"
      ],
      "text/plain": [
       "LogisticRegression()"
      ]
     },
     "execution_count": 7,
     "metadata": {},
     "output_type": "execute_result"
    }
   ],
   "source": [
    "# ----------------------\n",
    "# --- REGRESIÓN LOG. ---\n",
    "# ----------------------\n",
    "\n",
    "reg_log = LogisticRegression()\n",
    "reg_log.fit(X_train,Y_train)\n",
    "#joblib.dump(reg_log, '../models/reg_log.pkl')"
   ]
  },
  {
   "cell_type": "code",
   "execution_count": 8,
   "id": "378bda4e",
   "metadata": {},
   "outputs": [
    {
     "name": "stdout",
     "output_type": "stream",
     "text": [
      "Accuracy sobre el cjto de train: 0.992\n",
      "Accuracy sobre el cjto de test: 0.9879\n"
     ]
    }
   ],
   "source": [
    "# ---------------------------\n",
    "# -- ACCURACY TRAIN & TEST --\n",
    "# ---------------------------\n",
    "train_y_pred_reg_log = reg_log.predict(X_train)\n",
    "testing_y_pred_reg_log = reg_log.predict(X_test)\n",
    "\n",
    "print(f'Accuracy sobre el cjto de train: {round(accuracy_score(train_y_pred_reg_log,Y_train),4)}')\n",
    "print(f'Accuracy sobre el cjto de test: {round(accuracy_score(testing_y_pred_reg_log,Y_test),4)}')\n"
   ]
  },
  {
   "cell_type": "markdown",
   "id": "c1f3a433",
   "metadata": {},
   "source": [
    "Un inciso sobre las predicciones que se obtienen. Como vemos a continuación consisten en 0s y 1s, siendo `1 = fake new` y `0 = real new`."
   ]
  },
  {
   "cell_type": "code",
   "execution_count": 9,
   "id": "6366bd5d",
   "metadata": {},
   "outputs": [
    {
     "data": {
      "text/plain": [
       "array([0, 0, 0, ..., 1, 0, 1])"
      ]
     },
     "execution_count": 9,
     "metadata": {},
     "output_type": "execute_result"
    }
   ],
   "source": [
    "train_y_pred_reg_log"
   ]
  },
  {
   "cell_type": "code",
   "execution_count": 10,
   "id": "8abde7c6",
   "metadata": {},
   "outputs": [
    {
     "name": "stdout",
     "output_type": "stream",
     "text": [
      "              precision    recall  f1-score   support\n",
      "\n",
      "        Fake       0.99      0.99      0.99      4283\n",
      "        Real       0.99      0.99      0.99      4697\n",
      "\n",
      "    accuracy                           0.99      8980\n",
      "   macro avg       0.99      0.99      0.99      8980\n",
      "weighted avg       0.99      0.99      0.99      8980\n",
      "\n"
     ]
    }
   ],
   "source": [
    "# ---------------------------\n",
    "# -- CLASSIFICATION REPORT --\n",
    "# ---------------------------\n",
    "\n",
    "log_reg_report=classification_report(testing_y_pred_reg_log,Y_test,target_names=['Fake','Real'])\n",
    "print(log_reg_report)"
   ]
  },
  {
   "cell_type": "code",
   "execution_count": 11,
   "id": "371cb8ac",
   "metadata": {},
   "outputs": [
    {
     "name": "stdout",
     "output_type": "stream",
     "text": [
      "-- Matriz Confusión Train: --\n",
      "[['TP', 'FP'], ['FN', 'TN']]\n",
      "[[17012   121]\n",
      " [  168 18617]]\n",
      "\n",
      "-- Matriz Confusión Test: --\n",
      "[['TP', 'FP'], ['FN', 'TN']]\n",
      "[[4229   55]\n",
      " [  54 4642]]\n"
     ]
    }
   ],
   "source": [
    "# ---------------------------\n",
    "# ---- CONFUSSION MATRIX ----\n",
    "# ---------------------------\n",
    "\n",
    "print('-- Matriz Confusión Train: --')\n",
    "print ([['TP', 'FP'],['FN', 'TN']])\n",
    "print (confusion_matrix(Y_train, train_y_pred_reg_log,))\n",
    "print(\"\")\n",
    "\n",
    "print('-- Matriz Confusión Test: --')\n",
    "print ([['TP', 'FP'],['FN', 'TN']])\n",
    "print(confusion_matrix(Y_test, testing_y_pred_reg_log,))"
   ]
  },
  {
   "cell_type": "markdown",
   "id": "4cae49bf",
   "metadata": {},
   "source": [
    "Con este primer modelo, ya con una simple regresión logística se obtiene una accuracy de hasta un 99% tanto en el conjunto de entrenamiento como en el conjunto de test.\n",
    "\n",
    "En concreto, centrándonos en los datos del conjunto del test, datos que el modelo no había visto anteriormente, acertamos en 8871 noticias de las 8980 totales.\n",
    "\n",
    "De entre las 109 falladas, 54 de ellas eran noticias fake que hemos considerado reales (el peor de los fallos), y las 55 restantes eran noticias reales pero que hemos categorizado como fake."
   ]
  },
  {
   "cell_type": "markdown",
   "id": "3ebec1d3",
   "metadata": {},
   "source": [
    "<div style=\"padding: 5px;\">\n",
    "    <h2 style=\"color: #1e355f; font-weight: bold;\">Random Forest</h2>\n",
    "</div>\n",
    "\n",
    "En esta sección, exploraremos el algoritmo de Random Forest como una poderosa técnica de aprendizaje supervisado para abordar nuestra tarea de identificación de fake news. El Random Forest es una extensión del concepto de árboles de decisión, que combina múltiples árboles de decisión para mejorar la precisión y la generalización del modelo.\n",
    "\n",
    "#### ¿Qué es Random Forest?\n",
    "\n",
    "Random Forest es un algoritmo de aprendizaje supervisado que se basa en el ensamblaje de múltiples árboles de decisión. Cada árbol de decisión se entrena con una muestra aleatoria del conjunto de datos y utiliza una selección aleatoria de características en cada división de nodo. Finalmente, la predicción de clase se obtiene promediando las predicciones de todos los árboles (en el caso de clasificación) o tomando la media (en el caso de regresión). [4]\n",
    "\n",
    "#### Aplicación en Identificación de Fake News:\n",
    "\n",
    "En nuestro contexto, Random Forest puede ser utilizado para predecir si un artículo de noticias es genuino o falso basándose en un conjunto de características relevantes extraídas del texto. Al combinar múltiples árboles de decisión entrenados en diferentes subconjuntos de datos y características, Random Forest tiene la capacidad de capturar patrones complejos y mejorar la precisión del modelo en comparación con un solo árbol de decisión."
   ]
  },
  {
   "cell_type": "code",
   "execution_count": 12,
   "id": "89cc97b2",
   "metadata": {},
   "outputs": [
    {
     "data": {
      "text/html": [
       "<style>#sk-container-id-2 {color: black;background-color: white;}#sk-container-id-2 pre{padding: 0;}#sk-container-id-2 div.sk-toggleable {background-color: white;}#sk-container-id-2 label.sk-toggleable__label {cursor: pointer;display: block;width: 100%;margin-bottom: 0;padding: 0.3em;box-sizing: border-box;text-align: center;}#sk-container-id-2 label.sk-toggleable__label-arrow:before {content: \"▸\";float: left;margin-right: 0.25em;color: #696969;}#sk-container-id-2 label.sk-toggleable__label-arrow:hover:before {color: black;}#sk-container-id-2 div.sk-estimator:hover label.sk-toggleable__label-arrow:before {color: black;}#sk-container-id-2 div.sk-toggleable__content {max-height: 0;max-width: 0;overflow: hidden;text-align: left;background-color: #f0f8ff;}#sk-container-id-2 div.sk-toggleable__content pre {margin: 0.2em;color: black;border-radius: 0.25em;background-color: #f0f8ff;}#sk-container-id-2 input.sk-toggleable__control:checked~div.sk-toggleable__content {max-height: 200px;max-width: 100%;overflow: auto;}#sk-container-id-2 input.sk-toggleable__control:checked~label.sk-toggleable__label-arrow:before {content: \"▾\";}#sk-container-id-2 div.sk-estimator input.sk-toggleable__control:checked~label.sk-toggleable__label {background-color: #d4ebff;}#sk-container-id-2 div.sk-label input.sk-toggleable__control:checked~label.sk-toggleable__label {background-color: #d4ebff;}#sk-container-id-2 input.sk-hidden--visually {border: 0;clip: rect(1px 1px 1px 1px);clip: rect(1px, 1px, 1px, 1px);height: 1px;margin: -1px;overflow: hidden;padding: 0;position: absolute;width: 1px;}#sk-container-id-2 div.sk-estimator {font-family: monospace;background-color: #f0f8ff;border: 1px dotted black;border-radius: 0.25em;box-sizing: border-box;margin-bottom: 0.5em;}#sk-container-id-2 div.sk-estimator:hover {background-color: #d4ebff;}#sk-container-id-2 div.sk-parallel-item::after {content: \"\";width: 100%;border-bottom: 1px solid gray;flex-grow: 1;}#sk-container-id-2 div.sk-label:hover label.sk-toggleable__label {background-color: #d4ebff;}#sk-container-id-2 div.sk-serial::before {content: \"\";position: absolute;border-left: 1px solid gray;box-sizing: border-box;top: 0;bottom: 0;left: 50%;z-index: 0;}#sk-container-id-2 div.sk-serial {display: flex;flex-direction: column;align-items: center;background-color: white;padding-right: 0.2em;padding-left: 0.2em;position: relative;}#sk-container-id-2 div.sk-item {position: relative;z-index: 1;}#sk-container-id-2 div.sk-parallel {display: flex;align-items: stretch;justify-content: center;background-color: white;position: relative;}#sk-container-id-2 div.sk-item::before, #sk-container-id-2 div.sk-parallel-item::before {content: \"\";position: absolute;border-left: 1px solid gray;box-sizing: border-box;top: 0;bottom: 0;left: 50%;z-index: -1;}#sk-container-id-2 div.sk-parallel-item {display: flex;flex-direction: column;z-index: 1;position: relative;background-color: white;}#sk-container-id-2 div.sk-parallel-item:first-child::after {align-self: flex-end;width: 50%;}#sk-container-id-2 div.sk-parallel-item:last-child::after {align-self: flex-start;width: 50%;}#sk-container-id-2 div.sk-parallel-item:only-child::after {width: 0;}#sk-container-id-2 div.sk-dashed-wrapped {border: 1px dashed gray;margin: 0 0.4em 0.5em 0.4em;box-sizing: border-box;padding-bottom: 0.4em;background-color: white;}#sk-container-id-2 div.sk-label label {font-family: monospace;font-weight: bold;display: inline-block;line-height: 1.2em;}#sk-container-id-2 div.sk-label-container {text-align: center;}#sk-container-id-2 div.sk-container {/* jupyter's `normalize.less` sets `[hidden] { display: none; }` but bootstrap.min.css set `[hidden] { display: none !important; }` so we also need the `!important` here to be able to override the default hidden behavior on the sphinx rendered scikit-learn.org. See: https://github.com/scikit-learn/scikit-learn/issues/21755 */display: inline-block !important;position: relative;}#sk-container-id-2 div.sk-text-repr-fallback {display: none;}</style><div id=\"sk-container-id-2\" class=\"sk-top-container\"><div class=\"sk-text-repr-fallback\"><pre>RandomForestClassifier()</pre><b>In a Jupyter environment, please rerun this cell to show the HTML representation or trust the notebook. <br />On GitHub, the HTML representation is unable to render, please try loading this page with nbviewer.org.</b></div><div class=\"sk-container\" hidden><div class=\"sk-item\"><div class=\"sk-estimator sk-toggleable\"><input class=\"sk-toggleable__control sk-hidden--visually\" id=\"sk-estimator-id-2\" type=\"checkbox\" checked><label for=\"sk-estimator-id-2\" class=\"sk-toggleable__label sk-toggleable__label-arrow\">RandomForestClassifier</label><div class=\"sk-toggleable__content\"><pre>RandomForestClassifier()</pre></div></div></div></div></div>"
      ],
      "text/plain": [
       "RandomForestClassifier()"
      ]
     },
     "execution_count": 12,
     "metadata": {},
     "output_type": "execute_result"
    }
   ],
   "source": [
    "# ----------------------\n",
    "# --- RANDOM FOREST ----\n",
    "# ----------------------\n",
    "\n",
    "rf = RandomForestClassifier()\n",
    "rf.fit(X_train, Y_train)\n",
    "\n",
    "#joblib.dump(rf, '../models/random_forest.pkl')"
   ]
  },
  {
   "cell_type": "code",
   "execution_count": 13,
   "id": "01e15ee3",
   "metadata": {},
   "outputs": [
    {
     "name": "stdout",
     "output_type": "stream",
     "text": [
      "Accuracy sobre el cjto de train: 1.0\n",
      "Accuracy sobre el cjto de test: 0.992\n"
     ]
    }
   ],
   "source": [
    "# ---------------------------\n",
    "# -- ACCURACY TRAIN & TEST --\n",
    "# ---------------------------\n",
    "train_y_pred_rf = rf.predict(X_train)\n",
    "testing_y_pred_rf = rf.predict(X_test)\n",
    "\n",
    "print(f'Accuracy sobre el cjto de train: {round(accuracy_score(train_y_pred_rf,Y_train),4)}')\n",
    "print(f'Accuracy sobre el cjto de test: {round(accuracy_score(testing_y_pred_rf,Y_test),4)}')\n"
   ]
  },
  {
   "cell_type": "code",
   "execution_count": 14,
   "id": "b71d55e6",
   "metadata": {},
   "outputs": [
    {
     "name": "stdout",
     "output_type": "stream",
     "text": [
      "              precision    recall  f1-score   support\n",
      "\n",
      "        Fake       0.99      0.99      0.99      4270\n",
      "        Real       0.99      0.99      0.99      4710\n",
      "\n",
      "    accuracy                           0.99      8980\n",
      "   macro avg       0.99      0.99      0.99      8980\n",
      "weighted avg       0.99      0.99      0.99      8980\n",
      "\n"
     ]
    }
   ],
   "source": [
    "# ---------------------------\n",
    "# -- CLASSIFICATION REPORT --\n",
    "# ---------------------------\n",
    "\n",
    "rf_report=classification_report(testing_y_pred_rf,Y_test,target_names=['Fake','Real'])\n",
    "print(rf_report)"
   ]
  },
  {
   "cell_type": "code",
   "execution_count": 15,
   "id": "51280e89",
   "metadata": {},
   "outputs": [
    {
     "name": "stdout",
     "output_type": "stream",
     "text": [
      "-- Matriz Confusión Train: --\n",
      "[['TP', 'FP'], ['FN', 'TN']]\n",
      "[[17133     0]\n",
      " [    0 18785]]\n",
      "\n",
      "-- Matriz Confusión Test: --\n",
      "[['TP', 'FP'], ['FN', 'TN']]\n",
      "[[4241   43]\n",
      " [  29 4667]]\n"
     ]
    }
   ],
   "source": [
    "# ---------------------------\n",
    "# ---- CONFUSSION MATRIX ----\n",
    "# ---------------------------\n",
    "\n",
    "print('-- Matriz Confusión Train: --')\n",
    "print ([['TP', 'FP'],['FN', 'TN']])\n",
    "print (confusion_matrix(Y_train, train_y_pred_rf,))\n",
    "print(\"\")\n",
    "\n",
    "print('-- Matriz Confusión Test: --')\n",
    "print ([['TP', 'FP'],['FN', 'TN']])\n",
    "print(confusion_matrix(Y_test, testing_y_pred_rf,))"
   ]
  },
  {
   "cell_type": "markdown",
   "id": "74841a13",
   "metadata": {},
   "source": [
    "Muy similarmente a lo que ya ocurría en el primer modelo, (la regresión logística), obtenemos una accuracy de hasta un 99%  en el conjunto de test, mientras que en el conjunto de entrenamiento no se comete ningún error.\n",
    "\n",
    "\n",
    "En concreto, centrándonos en los datos del conjunto del test, datos que el modelo no había visto anteriormente, acertamos en 8908 noticias de las 8980 totales.\n",
    "\n",
    "De entre las 53 falladas, 29 de ellas eran noticias fake que hemos considerado reales (el peor de los fallos), y las 43 restantes eran noticias reales pero que hemos categorizado como fake."
   ]
  },
  {
   "cell_type": "markdown",
   "id": "488b4eb0",
   "metadata": {},
   "source": [
    "###### Feature Importances:\n",
    "\n",
    "Random Forest permite obtener qué palabras son aquellas que mayor repercusión tienen en la clasificación ejecutada.\n",
    "\n",
    "Veamos qué palabras cobran más importancia:"
   ]
  },
  {
   "cell_type": "code",
   "execution_count": 22,
   "id": "92482ba2",
   "metadata": {},
   "outputs": [
    {
     "name": "stdout",
     "output_type": "stream",
     "text": [
      "          Feature  Importance\n",
      "65239      reuter    0.064135\n",
      "67558        said    0.042386\n",
      "83424       video    0.021617\n",
      "83348         via    0.020792\n",
      "35056        imag    0.010649\n",
      "84745       watch    0.009165\n",
      "24740      featur    0.008781\n",
      "84693  washington    0.007404\n",
      "49701      minist    0.006010\n",
      "41405        know    0.005793\n",
      "14709         com    0.005655\n",
      "79939     tuesday    0.005633\n",
      "82293          us    0.004356\n",
      "77773    thursday    0.004226\n",
      "33909        http    0.004015\n",
      "63900        read    0.004010\n",
      "28200       getti    0.003938\n",
      "641        actual    0.003835\n",
      "2562      america    0.003731\n",
      "44267        like    0.003725\n"
     ]
    }
   ],
   "source": [
    "# Obtener las importancias de las características\n",
    "importances = rf.feature_importances_\n",
    "\n",
    "# Obtener los nombres de las características (palabras)\n",
    "feature_names = vector.get_feature_names_out()\n",
    "\n",
    "# Crear un DataFrame para mostrar las características y sus importancias\n",
    "feature_importance_df = pd.DataFrame({'Feature': feature_names, 'Importance': importances})\n",
    "\n",
    "# Ordenar el DataFrame por importancia en orden descendente\n",
    "feature_importance_df = feature_importance_df.sort_values(by='Importance', ascending=False)\n",
    "\n",
    "# Mostrar las 20 características más importantes\n",
    "print(feature_importance_df.head(20))"
   ]
  },
  {
   "cell_type": "markdown",
   "id": "a674d142",
   "metadata": {},
   "source": [
    "Estas son las palabras que más importan a la hora de identificar que una noticia es fake o no. \n",
    "\n",
    "- Destaca la palabra `reuters` relativa al periódico del que provienen las noticias reales. Tiene sentido que, en caso de nombrarse el periódico, solo se nombre en las noticias que provienen de él.\n",
    "\n",
    "- También destacan otras palabras que, de primeras, se esperaría que no marcaran gran diferencia. Algunos ejemplos son: `video`, `imag` o `watch`."
   ]
  },
  {
   "cell_type": "markdown",
   "id": "fce1b322",
   "metadata": {},
   "source": [
    "<div style=\"padding: 5px;\">\n",
    "    <h2 style=\"color: #1e355f; font-weight: bold;\">SVM</h2>\n",
    "</div>\n",
    "\n",
    "En esta sección, exploraremos el algoritmo de Support Vector Machines (SVM) como una técnica poderosa de aprendizaje supervisado para abordar nuestra tarea de identificación de fake news. SVM es un modelo de clasificación que encuentra el hiperplano óptimo que maximiza la separación entre clases en un espacio dimensionalmente superior.\n",
    "\n",
    "#### ¿Qué es Support Vector Machines (SVM)?\n",
    "\n",
    "Support Vector Machines es un algoritmo de aprendizaje supervisado que se utiliza tanto para clasificación como para regresión. En el caso de clasificación, SVM busca encontrar el hiperplano óptimo que maximiza la separación entre las clases. [5]"
   ]
  },
  {
   "cell_type": "code",
   "execution_count": 26,
   "id": "8fbd752d",
   "metadata": {},
   "outputs": [
    {
     "data": {
      "text/html": [
       "<style>#sk-container-id-2 {color: black;background-color: white;}#sk-container-id-2 pre{padding: 0;}#sk-container-id-2 div.sk-toggleable {background-color: white;}#sk-container-id-2 label.sk-toggleable__label {cursor: pointer;display: block;width: 100%;margin-bottom: 0;padding: 0.3em;box-sizing: border-box;text-align: center;}#sk-container-id-2 label.sk-toggleable__label-arrow:before {content: \"▸\";float: left;margin-right: 0.25em;color: #696969;}#sk-container-id-2 label.sk-toggleable__label-arrow:hover:before {color: black;}#sk-container-id-2 div.sk-estimator:hover label.sk-toggleable__label-arrow:before {color: black;}#sk-container-id-2 div.sk-toggleable__content {max-height: 0;max-width: 0;overflow: hidden;text-align: left;background-color: #f0f8ff;}#sk-container-id-2 div.sk-toggleable__content pre {margin: 0.2em;color: black;border-radius: 0.25em;background-color: #f0f8ff;}#sk-container-id-2 input.sk-toggleable__control:checked~div.sk-toggleable__content {max-height: 200px;max-width: 100%;overflow: auto;}#sk-container-id-2 input.sk-toggleable__control:checked~label.sk-toggleable__label-arrow:before {content: \"▾\";}#sk-container-id-2 div.sk-estimator input.sk-toggleable__control:checked~label.sk-toggleable__label {background-color: #d4ebff;}#sk-container-id-2 div.sk-label input.sk-toggleable__control:checked~label.sk-toggleable__label {background-color: #d4ebff;}#sk-container-id-2 input.sk-hidden--visually {border: 0;clip: rect(1px 1px 1px 1px);clip: rect(1px, 1px, 1px, 1px);height: 1px;margin: -1px;overflow: hidden;padding: 0;position: absolute;width: 1px;}#sk-container-id-2 div.sk-estimator {font-family: monospace;background-color: #f0f8ff;border: 1px dotted black;border-radius: 0.25em;box-sizing: border-box;margin-bottom: 0.5em;}#sk-container-id-2 div.sk-estimator:hover {background-color: #d4ebff;}#sk-container-id-2 div.sk-parallel-item::after {content: \"\";width: 100%;border-bottom: 1px solid gray;flex-grow: 1;}#sk-container-id-2 div.sk-label:hover label.sk-toggleable__label {background-color: #d4ebff;}#sk-container-id-2 div.sk-serial::before {content: \"\";position: absolute;border-left: 1px solid gray;box-sizing: border-box;top: 0;bottom: 0;left: 50%;z-index: 0;}#sk-container-id-2 div.sk-serial {display: flex;flex-direction: column;align-items: center;background-color: white;padding-right: 0.2em;padding-left: 0.2em;position: relative;}#sk-container-id-2 div.sk-item {position: relative;z-index: 1;}#sk-container-id-2 div.sk-parallel {display: flex;align-items: stretch;justify-content: center;background-color: white;position: relative;}#sk-container-id-2 div.sk-item::before, #sk-container-id-2 div.sk-parallel-item::before {content: \"\";position: absolute;border-left: 1px solid gray;box-sizing: border-box;top: 0;bottom: 0;left: 50%;z-index: -1;}#sk-container-id-2 div.sk-parallel-item {display: flex;flex-direction: column;z-index: 1;position: relative;background-color: white;}#sk-container-id-2 div.sk-parallel-item:first-child::after {align-self: flex-end;width: 50%;}#sk-container-id-2 div.sk-parallel-item:last-child::after {align-self: flex-start;width: 50%;}#sk-container-id-2 div.sk-parallel-item:only-child::after {width: 0;}#sk-container-id-2 div.sk-dashed-wrapped {border: 1px dashed gray;margin: 0 0.4em 0.5em 0.4em;box-sizing: border-box;padding-bottom: 0.4em;background-color: white;}#sk-container-id-2 div.sk-label label {font-family: monospace;font-weight: bold;display: inline-block;line-height: 1.2em;}#sk-container-id-2 div.sk-label-container {text-align: center;}#sk-container-id-2 div.sk-container {/* jupyter's `normalize.less` sets `[hidden] { display: none; }` but bootstrap.min.css set `[hidden] { display: none !important; }` so we also need the `!important` here to be able to override the default hidden behavior on the sphinx rendered scikit-learn.org. See: https://github.com/scikit-learn/scikit-learn/issues/21755 */display: inline-block !important;position: relative;}#sk-container-id-2 div.sk-text-repr-fallback {display: none;}</style><div id=\"sk-container-id-2\" class=\"sk-top-container\"><div class=\"sk-text-repr-fallback\"><pre>SVC(kernel=&#x27;linear&#x27;)</pre><b>In a Jupyter environment, please rerun this cell to show the HTML representation or trust the notebook. <br />On GitHub, the HTML representation is unable to render, please try loading this page with nbviewer.org.</b></div><div class=\"sk-container\" hidden><div class=\"sk-item\"><div class=\"sk-estimator sk-toggleable\"><input class=\"sk-toggleable__control sk-hidden--visually\" id=\"sk-estimator-id-2\" type=\"checkbox\" checked><label for=\"sk-estimator-id-2\" class=\"sk-toggleable__label sk-toggleable__label-arrow\">SVC</label><div class=\"sk-toggleable__content\"><pre>SVC(kernel=&#x27;linear&#x27;)</pre></div></div></div></div></div>"
      ],
      "text/plain": [
       "SVC(kernel='linear')"
      ]
     },
     "execution_count": 26,
     "metadata": {},
     "output_type": "execute_result"
    }
   ],
   "source": [
    "# ----------------------\n",
    "# -------- SVM ---------\n",
    "# ----------------------\n",
    "\n",
    "model_svm = svm.SVC(kernel='linear') # kernel lineal\n",
    "model_svm.fit(X_train,Y_train)"
   ]
  },
  {
   "cell_type": "code",
   "execution_count": 27,
   "id": "650245ef",
   "metadata": {},
   "outputs": [
    {
     "name": "stdout",
     "output_type": "stream",
     "text": [
      "Accuracy sobre el cjto de train: 0.9979\n",
      "Accuracy sobre el cjto de test: 0.9948\n"
     ]
    }
   ],
   "source": [
    "# ---------------------------\n",
    "# -- ACCURACY TRAIN & TEST --\n",
    "# ---------------------------\n",
    "train_y_pred_svm = model_svm.predict(X_train)\n",
    "testing_y_pred_svm = model_svm.predict(X_test)\n",
    "\n",
    "print(f'Accuracy sobre el cjto de train: {round(accuracy_score(train_y_pred_svm,Y_train),4)}')\n",
    "print(f'Accuracy sobre el cjto de test: {round(accuracy_score(testing_y_pred_svm,Y_test),4)}')\n"
   ]
  },
  {
   "cell_type": "code",
   "execution_count": 28,
   "id": "e2cb464f",
   "metadata": {},
   "outputs": [
    {
     "name": "stdout",
     "output_type": "stream",
     "text": [
      "              precision    recall  f1-score   support\n",
      "\n",
      "        Fake       0.99      0.99      0.99      4287\n",
      "        Real       0.99      1.00      0.99      4693\n",
      "\n",
      "    accuracy                           0.99      8980\n",
      "   macro avg       0.99      0.99      0.99      8980\n",
      "weighted avg       0.99      0.99      0.99      8980\n",
      "\n"
     ]
    }
   ],
   "source": [
    "# ---------------------------\n",
    "# -- CLASSIFICATION REPORT --\n",
    "# ---------------------------\n",
    "\n",
    "svm_report=classification_report(testing_y_pred_svm,Y_test,target_names=['Fake','Real'])\n",
    "print(svm_report)"
   ]
  },
  {
   "cell_type": "code",
   "execution_count": 29,
   "id": "682ee2b6",
   "metadata": {},
   "outputs": [
    {
     "name": "stdout",
     "output_type": "stream",
     "text": [
      "-- Matriz Confusión Train: --\n",
      "[['TP', 'FP'], ['FN', 'TN']]\n",
      "[[17107    26]\n",
      " [   50 18735]]\n",
      "\n",
      "-- Matriz Confusión Test: --\n",
      "[['TP', 'FP'], ['FN', 'TN']]\n",
      "[[4262   22]\n",
      " [  25 4671]]\n"
     ]
    }
   ],
   "source": [
    "# ---------------------------\n",
    "# ---- CONFUSSION MATRIX ----\n",
    "# ---------------------------\n",
    "\n",
    "print('-- Matriz Confusión Train: --')\n",
    "print ([['TP', 'FP'],['FN', 'TN']])\n",
    "print (confusion_matrix(Y_train, train_y_pred_svm,))\n",
    "print(\"\")\n",
    "\n",
    "print('-- Matriz Confusión Test: --')\n",
    "print ([['TP', 'FP'],['FN', 'TN']])\n",
    "print(confusion_matrix(Y_test, testing_y_pred_svm,))"
   ]
  },
  {
   "cell_type": "markdown",
   "id": "05603ce5",
   "metadata": {},
   "source": [
    "Muy similarmente a lo que ya ocurría en los anteriores modelos, obtenemos una accuracy de hasta un 99% tanto en el conjunto de entrenamiento como en el conjunto de test.\n",
    "\n",
    "\n",
    "En concreto, centrándonos en los datos del conjunto del test, datos que el modelo no había visto anteriormente, acertamos en 8933 noticias de las 8980 totales.\n",
    "\n",
    "De entre las 47 falladas, 25 de ellas eran noticias fake que hemos considerado reales (el peor de los fallos), y las 22 restantes eran noticias reales pero que hemos categorizado como fake."
   ]
  },
  {
   "cell_type": "markdown",
   "id": "854da7c1",
   "metadata": {},
   "source": [
    "<div style=\"padding: 25px;\">\n",
    "    <h2 style=\"color: #1e355f; font-weight: bold;\">--- COMPARACIÓN ENTRE MODELOS ---</h2>\n",
    "</div>"
   ]
  },
  {
   "cell_type": "markdown",
   "id": "aacd9aec",
   "metadata": {},
   "source": [
    "Para finalizar este notebook, procedemos a comparar los 3 modelos entrenados de Machine Learning para nuestra tarea.\n",
    "\n",
    "Para realizar esta tarea, **comparamos las accuracys** (porcentaje de acierto) obtenidas con cada uno de los modelos, tanto sobre el conjunto de entrenamiento, como sobre el conjunto de test.\n",
    "\n",
    "En segundo lugar, también compararemos sus **valores de `Errores tipo II: Falsos negativos (FN)`,** esto hace referencia a cuántas fake news no hemos sido capaces de detectar. Esta métrica cobra importancia en esta tarea dado que precisamente este es nuestro objetivo, identificar qué noticia es fake para así no creerla (es más grave este error que el contrario, el que ocurriría al tachar de fake new una noticia verídica)."
   ]
  },
  {
   "cell_type": "code",
   "execution_count": 30,
   "id": "6a70488b",
   "metadata": {},
   "outputs": [
    {
     "data": {
      "image/png": "[encoded data removed]",
      "text/plain": [
       "<Figure size 1000x600 with 1 Axes>"
      ]
     },
     "metadata": {},
     "output_type": "display_data"
    }
   ],
   "source": [
    "import matplotlib.pyplot as plt\n",
    "\n",
    "# Modelos\n",
    "modelos = ['Regresión Log.', 'Random Forest', 'SVM']\n",
    "\n",
    "# Accuracy en train y test para cada modelo\n",
    "accuracy_train = [accuracy_score(train_y_pred_reg_log, Y_train),\n",
    "                  accuracy_score(train_y_pred_rf, Y_train),\n",
    "                  accuracy_score(train_y_pred_svm, Y_train)]\n",
    "\n",
    "accuracy_test = [accuracy_score(testing_y_pred_reg_log, Y_test),\n",
    "                 accuracy_score(testing_y_pred_rf, Y_test),\n",
    "                 accuracy_score(testing_y_pred_svm, Y_test)]\n",
    "\n",
    "# Crear el gráfico de barras\n",
    "plt.figure(figsize=(10, 6))\n",
    "bar_width = 0.35\n",
    "index = range(len(modelos))\n",
    "\n",
    "# Barras para accuracy en train\n",
    "plt.bar(index, accuracy_train, bar_width, color='skyblue', label='Train')\n",
    "\n",
    "# Barras para accuracy en test\n",
    "plt.bar([i + bar_width for i in index], accuracy_test, bar_width, color='lightgreen', label='Test')\n",
    "\n",
    "# Añadir etiquetas con los valores\n",
    "for i in index:\n",
    "    plt.text(i, accuracy_train[i] + 0.01, round(accuracy_train[i], 3), ha='center')\n",
    "    plt.text(i + bar_width, accuracy_test[i] + 0.01, round(accuracy_test[i], 3), ha='center')\n",
    "\n",
    "# Añadir título y leyenda\n",
    "plt.title('Accuracy de Train y Test por Modelo')\n",
    "plt.xlabel('Modelo')\n",
    "plt.ylabel('Accuracy')\n",
    "plt.xticks([i + bar_width / 2 for i in index], modelos)\n",
    "plt.legend(loc='lower left')\n",
    "\n",
    "# Mostrar el gráfico\n",
    "plt.tight_layout()\n",
    "plt.show()\n"
   ]
  },
  {
   "cell_type": "code",
   "execution_count": 35,
   "id": "cdec4f81",
   "metadata": {},
   "outputs": [
    {
     "data": {
      "image/png": "[encoded data removed]",
      "text/plain": [
       "<Figure size 1000x600 with 1 Axes>"
      ]
     },
     "metadata": {},
     "output_type": "display_data"
    }
   ],
   "source": [
    "fn_reg_log = 54\n",
    "fn_rf = 23\n",
    "fn_svm = 25\n",
    "\n",
    "import matplotlib.pyplot as plt\n",
    "\n",
    "# Modelos\n",
    "modelos = ['Regresión Log.', 'Random Forest', 'SVM']\n",
    "\n",
    "# FN para cada modelo\n",
    "FalseNegatives = [fn_reg_log, fn_rf, fn_svm]\n",
    "\n",
    "# Creamos el gráfico de barras\n",
    "plt.figure(figsize=(10, 6))\n",
    "bar_width = 0.35\n",
    "index = range(len(modelos))\n",
    "\n",
    "# Barras para accuracy en train\n",
    "plt.bar(index, FalseNegatives, bar_width, label='False Negatives')\n",
    "\n",
    "# Añadimos etiquetas con los valores\n",
    "for i in index:\n",
    "    plt.text(i, FalseNegatives[i] + 0.5, str(FalseNegatives[i]), ha='center', va='bottom')\n",
    "\n",
    "# Añadimos título y leyenda\n",
    "plt.title('False Negatives por Modelo')\n",
    "plt.xlabel('Modelo')\n",
    "plt.ylabel('FN')\n",
    "plt.xticks([i + bar_width / 2 for i in index], modelos)\n",
    "plt.legend(loc='lower left')\n",
    "\n",
    "# Gráfico\n",
    "plt.tight_layout()\n",
    "plt.show()\n"
   ]
  },
  {
   "cell_type": "markdown",
   "id": "4db2d505",
   "metadata": {},
   "source": [
    "Atendiendo a los 2 gráficos con métricas de error que acabamos de obtener, **concluimos que los 3 tienen un muy buen rendimiento pese a ser tan solo modelos de Machine Learning** (y no todavía Deep Learning).\n",
    "\n",
    "No obstante, entre los 3 modelos entrenados, **nos quedamos con el Random Forest**, pues es este modelo el que menos fallos de tipo `Error II`comete (menos noticias fake clasificadas como noticias reales)."
   ]
  },
  {
   "cell_type": "markdown",
   "id": "487ed8a9",
   "metadata": {},
   "source": [
    "---\n",
    "---\n",
    "\n",
    "<div style=\"padding: 5px;\">\n",
    "    <h2 style=\"color: #1e355f; font-weight: bold;\">Referencias:</h2>\n",
    "</div>\n",
    "\n",
    "\n",
    "[1] Seobility. (s. f.). ¿Qué es el Stemming? - Seobility Wiki. https://www.seobility.net/es/wiki/Stemming\n",
    "\n",
    "[2] Data, S. B. (2019, 23 diciembre). Machine Learning Procesamiento de texto – sitiobigdata.com. https://sitiobigdata.com/2019/12/23/machine-learning-procesamiento-de-texto/\n",
    "\n",
    "[3] Regresión logística Python. (s. f.). https://cienciadedatos.net/documentos/py17-regresion-logistica-python.html\n",
    "\n",
    "[4] Daniel. (2023, 30 octubre). Random Forest: Bosque aleatorio. Definición y funcionamiento. Formación En Ciencia de Datos | DataScientest.com. https://datascientest.com/es/random-forest-bosque-aleatorio-definicion-y-funcionamiento\n",
    "\n",
    "[5] Support Vector Machine (SVM). (s. f.). MATLAB & Simulink. https://es.mathworks.com/discovery/support-vector-machine.html"
   ]
  }
 ],
 "metadata": {
  "kernelspec": {
   "display_name": "Python 3 (ipykernel)",
   "language": "python",
   "name": "python3"
  },
  "language_info": {
   "codemirror_mode": {
    "name": "ipython",
    "version": 3
   },
   "file_extension": ".py",
   "mimetype": "text/x-python",
   "name": "python",
   "nbconvert_exporter": "python",
   "pygments_lexer": "ipython3",
   "version": "3.11.5"
  }
 },
 "nbformat": 4,
 "nbformat_minor": 5
}
